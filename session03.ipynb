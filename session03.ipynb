{
 "cells": [
  {
   "attachments": {},
   "cell_type": "markdown",
   "metadata": {},
   "source": [
    "# if-else"
   ]
  },
  {
   "cell_type": "code",
   "execution_count": null,
   "metadata": {},
   "outputs": [],
   "source": [
    "#  if sartkosulu: \n",
    "#   durum"
   ]
  },
  {
   "cell_type": "code",
   "execution_count": 1,
   "metadata": {},
   "outputs": [
    {
     "name": "stdout",
     "output_type": "stream",
     "text": [
      "Buyuk\n"
     ]
    }
   ],
   "source": [
    "a = 6\n",
    "if a>5 :\n",
    "    print('Buyuk')"
   ]
  },
  {
   "cell_type": "code",
   "execution_count": 2,
   "metadata": {},
   "outputs": [
    {
     "name": "stdout",
     "output_type": "stream",
     "text": [
      "Kucuk\n"
     ]
    }
   ],
   "source": [
    "a = 3\n",
    "if a>5 :\n",
    "    print('Buyuk')\n",
    "else :\n",
    "    print('Kucuk')    "
   ]
  },
  {
   "cell_type": "code",
   "execution_count": 3,
   "metadata": {},
   "outputs": [
    {
     "data": {
      "text/plain": [
       "'5'"
      ]
     },
     "execution_count": 3,
     "metadata": {},
     "output_type": "execute_result"
    }
   ],
   "source": [
    "input(\"Bir sayi giriniz\")"
   ]
  },
  {
   "cell_type": "code",
   "execution_count": 7,
   "metadata": {},
   "outputs": [
    {
     "name": "stdout",
     "output_type": "stream",
     "text": [
      "Kaldiniz\n"
     ]
    }
   ],
   "source": [
    "note = int(input(\"Matematik notunuzu giriniz. \")) #!!!  input() fonksiyonu ile alinan degerler her zaman string olarak doner \n",
    "if note>50:                                      # bu yuzden sayisal deger alamak istiyorsa int veya float a cevirmemiz gerekir\n",
    "    print(\"Tebrikler, Gectiniz\")\n",
    "else : \n",
    "    print(\"Kaldiniz\")   "
   ]
  },
  {
   "cell_type": "code",
   "execution_count": 8,
   "metadata": {},
   "outputs": [
    {
     "data": {
      "text/plain": [
       "int"
      ]
     },
     "execution_count": 8,
     "metadata": {},
     "output_type": "execute_result"
    }
   ],
   "source": [
    "type(note)"
   ]
  },
  {
   "cell_type": "code",
   "execution_count": 17,
   "metadata": {},
   "outputs": [
    {
     "name": "stdout",
     "output_type": "stream",
     "text": [
      "Tebrikler, Gectiniz\n"
     ]
    }
   ],
   "source": [
    "note = int(input(\"Matematik notunuzu giriniz. \"))\n",
    "if note>100 or note<0 :\n",
    "    print(\"Gecersiz Not, Gecerli bir not giriniz\")\n",
    "elif note >=50 :\n",
    "    print(\"Tebrikler, Gectiniz\")\n",
    "else :\n",
    "    print(\"Kaldiniz, Daha cok calismalisiniz\")"
   ]
  },
  {
   "cell_type": "code",
   "execution_count": 19,
   "metadata": {},
   "outputs": [
    {
     "name": "stdout",
     "output_type": "stream",
     "text": [
      "Var\n"
     ]
    }
   ],
   "source": [
    "text = \"Benim adim Hanife\"\n",
    "if\"adim\" in text:\n",
    "    print(\"Var\")\n",
    "else :\n",
    "    print(\"Yok\")"
   ]
  },
  {
   "cell_type": "code",
   "execution_count": 18,
   "metadata": {},
   "outputs": [
    {
     "name": "stdout",
     "output_type": "stream",
     "text": [
      "Var\n"
     ]
    }
   ],
   "source": [
    "text = \"Benim adim Hanife\"\n",
    "if \"Adim\" not in text:\n",
    "    print(\"Var\")\n",
    "else :\n",
    "    print(\"Yok\")"
   ]
  },
  {
   "cell_type": "code",
   "execution_count": 22,
   "metadata": {},
   "outputs": [
    {
     "name": "stdout",
     "output_type": "stream",
     "text": [
      "Negatif\n"
     ]
    }
   ],
   "source": [
    "num = int(input(\"Matematik notunuzu giriniz\"))\n",
    "if num>=0:\n",
    "    if num > 0 :\n",
    "        print(\"Positive\")\n",
    "    else :\n",
    "        print(\"Num = 0' dir \")\n",
    "else :\n",
    "    print(\"Negatif\")"
   ]
  },
  {
   "attachments": {},
   "cell_type": "markdown",
   "metadata": {},
   "source": [
    "## Fonksiyonlar (Functions)\n"
   ]
  },
  {
   "cell_type": "code",
   "execution_count": 24,
   "metadata": {},
   "outputs": [],
   "source": [
    "def nolsun(a,b) :\n",
    "    sonuc = a*b\n",
    "    return sonuc"
   ]
  },
  {
   "cell_type": "code",
   "execution_count": 25,
   "metadata": {},
   "outputs": [
    {
     "data": {
      "text/plain": [
       "30"
      ]
     },
     "execution_count": 25,
     "metadata": {},
     "output_type": "execute_result"
    }
   ],
   "source": [
    "nolsun(5,6)"
   ]
  }
 ],
 "metadata": {
  "kernelspec": {
   "display_name": "Python 3",
   "language": "python",
   "name": "python3"
  },
  "language_info": {
   "codemirror_mode": {
    "name": "ipython",
    "version": 3
   },
   "file_extension": ".py",
   "mimetype": "text/x-python",
   "name": "python",
   "nbconvert_exporter": "python",
   "pygments_lexer": "ipython3",
   "version": "3.11.1"
  },
  "orig_nbformat": 4,
  "vscode": {
   "interpreter": {
    "hash": "74cc819deff76c29e4928f7ff26e3eddcbba8fed33adfaaa19de16534a73accc"
   }
  }
 },
 "nbformat": 4,
 "nbformat_minor": 2
}
